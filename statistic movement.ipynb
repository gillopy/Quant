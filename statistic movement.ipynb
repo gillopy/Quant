{
  "nbformat": 4,
  "nbformat_minor": 0,
  "metadata": {
    "colab": {
      "provenance": []
    },
    "kernelspec": {
      "name": "python3",
      "display_name": "Python 3"
    },
    "language_info": {
      "name": "python"
    }
  },
  "cells": [
    {
      "cell_type": "code",
      "execution_count": 1,
      "metadata": {
        "colab": {
          "base_uri": "https://localhost:8080/"
        },
        "id": "LQXnXz3wABBU",
        "outputId": "7b3449d0-0b40-4215-90e5-ebcf8bc009b6"
      },
      "outputs": [
        {
          "output_type": "stream",
          "name": "stdout",
          "text": [
            "Casos totales: 11\n",
            "Proba de que baje mas del 5%: 9.09%\n",
            "Proba de que suba mas del 5%: 54.55%\n",
            "Casos por año: {1929: 4, 1932: 2, 1933: 1, 1940: 1, 1987: 1, 2008: 2}\n"
          ]
        }
      ],
      "source": [
        "import yfinance as yf\n",
        "\n",
        "df = yf.download('^GSPC', progress=False, auto_adjust=True)\n",
        "DD = 0.05  # Param\n",
        "\n",
        "sp = df['Close'].copy()\n",
        "sp['ret'] = sp['^GSPC'].pct_change()\n",
        "sp['fw1'] = sp['ret'].shift(-1)\n",
        "sp['drop_condition'] = (sp['ret'] < -DD) & (sp['ret'].shift(1) < -DD)\n",
        "samples = sp.loc[sp.drop_condition].fw1.dropna()\n",
        "\n",
        "Pdown = (samples < -DD).sum() / len(samples)\n",
        "Pup = (samples > DD).sum() / len(samples)\n",
        "print(f\"Casos totales: {len(samples)}\")\n",
        "print(f'Proba de que baje mas del {DD:.0%}: {Pdown:.2%}')\n",
        "print(f'Proba de que suba mas del {DD:.0%}: {Pup:.2%}')\n",
        "print(f\"Casos por año: {samples.groupby(samples.index.year).size().to_dict()}\")"
      ]
    }
  ]
}